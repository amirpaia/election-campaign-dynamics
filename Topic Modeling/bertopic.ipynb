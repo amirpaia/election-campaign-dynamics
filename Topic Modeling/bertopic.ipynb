{
 "cells": [
  {
   "cell_type": "code",
   "execution_count": 1,
   "id": "92c50e94",
   "metadata": {},
   "outputs": [],
   "source": [
    "import re\n",
    "import pandas as pd\n",
    "from bertopic import BERTopic\n",
    "\n",
    "# Prepare data\n",
    "lepen = pd.read_csv('clean_lepen_tweets2.csv', encoding='utf-8')\n",
    "lepen.dropna(inplace=True)"
   ]
  },
  {
   "cell_type": "code",
   "execution_count": null,
   "id": "23df8462",
   "metadata": {},
   "outputs": [],
   "source": [
    "# preparing tweet texts\n",
    "lepen.basic_cleaning = lepen.basic_cleaning.astype('string')\n",
    "lepen.basic_cleaning = lepen.apply(lambda row: re.sub(r\"http\\S+\", \"\", row.basic_cleaning).lower(), 1)\n",
    "lepen.basic_cleaning = lepen.apply(lambda row: \" \".join(filter(lambda x:x[0]!=\"@\", row.basic_cleaning.split())), 1)\n",
    "lepen.basic_cleaning = lepen.apply(lambda row: \" \".join(re.sub(\"[^a-zA-Z]+\", \" \", row.basic_cleaning).split()), 1)"
   ]
  },
  {
   "cell_type": "code",
   "execution_count": null,
   "id": "b99cc14e",
   "metadata": {},
   "outputs": [],
   "source": [
    "# filtering date\n",
    "lepen.time = pd.to_datetime(lepen['time'], dayfirst=True)\n",
    "lepen = lepen[lepen['time'] > '2019-07-01']"
   ]
  },
  {
   "cell_type": "code",
   "execution_count": null,
   "id": "184ee528",
   "metadata": {},
   "outputs": [],
   "source": [
    "# saving text and time in 2 different lists\n",
    "timestamps = lepen.time.to_list()\n",
    "tweets = lepen.basic_cleaning.to_list()"
   ]
  },
  {
   "cell_type": "code",
   "execution_count": null,
   "id": "9537d200",
   "metadata": {},
   "outputs": [],
   "source": [
    "# getting topics\n",
    "topic_model = BERTopic(language=\"multilingual\")\n",
    "topics, probs = topic_model.fit_transform(tweets)"
   ]
  },
  {
   "cell_type": "code",
   "execution_count": null,
   "id": "355fd8cd",
   "metadata": {},
   "outputs": [],
   "source": [
    "# finding topic's distribbution over time\n",
    "topics_over_time = topic_model.topics_over_time(tweets, topics, timestamps, nr_bins=20)\n",
    "# visualization\n",
    "topic_model.visualize_topics_over_time(topics_over_time, top_n_topics=10)"
   ]
  }
 ],
 "metadata": {
  "kernelspec": {
   "display_name": "Python 3",
   "language": "python",
   "name": "python3"
  },
  "language_info": {
   "codemirror_mode": {
    "name": "ipython",
    "version": 3
   },
   "file_extension": ".py",
   "mimetype": "text/x-python",
   "name": "python",
   "nbconvert_exporter": "python",
   "pygments_lexer": "ipython3",
   "version": "3.8.8"
  }
 },
 "nbformat": 4,
 "nbformat_minor": 5
}
