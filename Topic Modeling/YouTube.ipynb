{
 "cells": [
  {
   "cell_type": "code",
   "execution_count": 1,
   "id": "51ab48b8",
   "metadata": {},
   "outputs": [],
   "source": [
    "# !python -m spacy download fr_core_news_md"
   ]
  },
  {
   "cell_type": "code",
   "execution_count": 2,
   "id": "69ae6a74",
   "metadata": {},
   "outputs": [],
   "source": [
    "file = 'lepen_speech_YT.csv'"
   ]
  },
  {
   "cell_type": "code",
   "execution_count": 3,
   "id": "6bb8a6fc",
   "metadata": {},
   "outputs": [],
   "source": [
    "import pandas as pd\n",
    "from keybert import KeyBERT\n",
    "import re\n",
    "from bertopic import BERTopic\n",
    "import nltk\n",
    "from nltk.tokenize import word_tokenize\n",
    "from nltk.stem import WordNetLemmatizer\n",
    "import spacy\n",
    "from spacy.lang.fr.stop_words import STOP_WORDS as fr_stop\n",
    "nlp = spacy.load('fr_core_news_md')\n",
    "# nltk.download('wordnet')\n",
    "# nltk.download('punkt')\n",
    "stopwords = list(fr_stop)\n",
    "kw_model = KeyBERT()"
   ]
  },
  {
   "cell_type": "code",
   "execution_count": 4,
   "id": "7dd0360b",
   "metadata": {},
   "outputs": [],
   "source": [
    "df = pd.read_csv(file, encoding = 'UTF-8')"
   ]
  },
  {
   "cell_type": "code",
   "execution_count": 5,
   "id": "57a99955",
   "metadata": {},
   "outputs": [],
   "source": [
    "punctuation = '!\"$%&\\'()*+,-./:;<=>?[\\\\]^_`{|}~•@' \n",
    "\n",
    "stopwords.extend(['avoir', 'pouvoir', 'devoir'])\n",
    "\n",
    "def deEmojify(text):\n",
    "    regrex_pattern = re.compile(pattern = \"[\"\n",
    "        u\"\\U0001F600-\\U0001F64F\"\n",
    "        u\"\\U0001F300-\\U0001F5FF\"\n",
    "        u\"\\U0001F680-\\U0001F6FF\"\n",
    "        u\"\\U0001F1E0-\\U0001F1FF\"\n",
    "        u\"\\U00002500-\\U00002BEF\"\n",
    "        u\"\\U00002702-\\U000027B0\"\n",
    "        u\"\\U00002702-\\U000027B0\"\n",
    "        u\"\\U000024C2-\\U0001F251\"\n",
    "        u\"\\U0001f926-\\U0001f937\"\n",
    "        u\"\\U00010000-\\U0010ffff\"\n",
    "        u\"\\u2640-\\u2642\"\n",
    "        u\"\\u2600-\\u2B55\"\n",
    "        u\"\\u200d\"\n",
    "        u\"\\u23cf\"\n",
    "        u\"\\u23e9\"\n",
    "        u\"\\u231a\"\n",
    "        u\"\\ufe0f\" \n",
    "        u\"\\u3030\"\n",
    "                           \"]+\", flags = re.UNICODE)\n",
    "    return regrex_pattern.sub(r'', text)\n",
    "\n",
    "def preprocessing_final(tweet):\n",
    "    # nlp = spacy.load('fr_core_news_md')\n",
    "    # To lowercase\n",
    "    punctuation = '!\"$%&\\'()*+,-./:;<=>?[\\\\]^_`{|}~•@' \n",
    "    \"\"\"function that also performs tokenization, lemmatization and removal of stopwords\"\"\"\n",
    "    tweet = re.sub('(RT\\s@[A-Za-z]+[A-Za-z0-9-_]+)', '', tweet)  # remove re-tweet\n",
    "    tweet = re.sub('(@[A-Za-z]+[A-Za-z0-9-_]+)', '', tweet)  # remove tweeted at\n",
    "    tweet = re.sub(r'http\\S+', '', tweet)   # remove http links\n",
    "    tweet = re.sub(r'bit.ly/\\S+', '', tweet)  # remove bitly links\n",
    "    tweet = tweet.strip('[link]')   # remove [links]\n",
    "    tweet = re.sub(r'pic.twitter\\S+','', tweet)\n",
    "    tweet = re.sub('(#[A-Za-z]+[A-Za-z0-9-_]+)', '', tweet)  # remove hash tags\n",
    "    tweet = tweet.lower()  # lower case\n",
    "    tweet = re.sub('[' + punctuation + ']+', ' ', tweet)  # strip punctuation\n",
    "    tweet = re.sub('\\s+', ' ', tweet)  # remove double spacing\n",
    "    tweet = re.sub('([0-9]+)', '', tweet)  # remove numbers\n",
    "    tweet=deEmojify(tweet)\n",
    "# Creating a doc with spaCy\n",
    "    doc = nlp(tweet)\n",
    "    lemmas = []\n",
    "    for token in doc:\n",
    "        lemmas.append(token.lemma_)\n",
    "    return \" \".join([str(x) for x in lemmas if x.isalpha() and x not in stopwords])"
   ]
  },
  {
   "cell_type": "code",
   "execution_count": 6,
   "id": "1e53653b",
   "metadata": {},
   "outputs": [],
   "source": [
    "df['preprocessed']= df['transcript'].apply(preprocessing_final)"
   ]
  },
  {
   "cell_type": "code",
   "execution_count": 7,
   "id": "d2e40dff",
   "metadata": {},
   "outputs": [],
   "source": [
    "def keyword_extraction(text):\n",
    "    keywords=[]\n",
    "    kw = kw_model.extract_keywords(text, keyphrase_ngram_range=(1, 1), stop_words=stopwords)\n",
    "    kw.extend(kw_model.extract_keywords(text, keyphrase_ngram_range=(3, 3), stop_words=stopwords, \n",
    "                              use_mmr=True, diversity=0.7))\n",
    "    for (k,v) in kw:\n",
    "        keywords.append(k)\n",
    "    \n",
    "    return ' '.join(list(set(' '.join(keywords).split())))"
   ]
  },
  {
   "cell_type": "code",
   "execution_count": 8,
   "id": "2b6bb537",
   "metadata": {},
   "outputs": [],
   "source": [
    "df['keywords']= df['transcript'].apply(keyword_extraction)"
   ]
  },
  {
   "cell_type": "code",
   "execution_count": 9,
   "id": "500ee592",
   "metadata": {},
   "outputs": [],
   "source": [
    "texts = df.keywords.to_list()"
   ]
  },
  {
   "cell_type": "code",
   "execution_count": 13,
   "id": "efe17d2d",
   "metadata": {},
   "outputs": [],
   "source": [
    "topic_model = BERTopic(language=\"French\")\n",
    "topics, probs = topic_model.fit_transform(texts)"
   ]
  },
  {
   "cell_type": "code",
   "execution_count": 14,
   "id": "6e1a2a03",
   "metadata": {},
   "outputs": [],
   "source": [
    "Topic_df = pd.DataFrame.from_dict(topic_model.get_topics())"
   ]
  },
  {
   "cell_type": "code",
   "execution_count": 16,
   "id": "d274a67c",
   "metadata": {},
   "outputs": [],
   "source": [
    "Topic_df.to_csv(file[:-4]+'_topics.csv', encoding='utf-8')"
   ]
  },
  {
   "cell_type": "code",
   "execution_count": null,
   "id": "75bab61a",
   "metadata": {},
   "outputs": [],
   "source": []
  }
 ],
 "metadata": {
  "kernelspec": {
   "display_name": "Python 3",
   "language": "python",
   "name": "python3"
  },
  "language_info": {
   "codemirror_mode": {
    "name": "ipython",
    "version": 3
   },
   "file_extension": ".py",
   "mimetype": "text/x-python",
   "name": "python",
   "nbconvert_exporter": "python",
   "pygments_lexer": "ipython3",
   "version": "3.8.8"
  }
 },
 "nbformat": 4,
 "nbformat_minor": 5
}
