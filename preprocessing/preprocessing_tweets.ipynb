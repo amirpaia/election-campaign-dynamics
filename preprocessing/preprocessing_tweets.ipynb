{
 "cells": [
  {
   "cell_type": "code",
   "execution_count": 53,
   "metadata": {},
   "outputs": [
    {
     "name": "stderr",
     "output_type": "stream",
     "text": [
      "[nltk_data] Downloading package wordnet to /home/melich/nltk_data...\n",
      "[nltk_data]   Package wordnet is already up-to-date!\n",
      "[nltk_data] Downloading package punkt to /home/melich/nltk_data...\n",
      "[nltk_data]   Package punkt is already up-to-date!\n"
     ]
    }
   ],
   "source": [
    "import nltk\n",
    "import re\n",
    "from nltk.tokenize import word_tokenize\n",
    "from nltk.stem import WordNetLemmatizer\n",
    "from nltk.corpus import stopwords\n",
    "import spacy\n",
    "from spacy.lang.fr.stop_words import STOP_WORDS\n",
    "nlp = spacy.load('fr_core_news_md')\n",
    "nltk.download('wordnet')\n",
    "nltk.download('punkt')\n",
    "stopwords = stopwords.words('french')"
   ]
  },
  {
   "cell_type": "code",
   "execution_count": 15,
   "metadata": {},
   "outputs": [
    {
     "ename": "AttributeError",
     "evalue": "'set' object has no attribute 'words'",
     "output_type": "error",
     "traceback": [
      "\u001b[0;31m---------------------------------------------------------------------------\u001b[0m",
      "\u001b[0;31mAttributeError\u001b[0m                            Traceback (most recent call last)",
      "\u001b[0;32m/tmp/ipykernel_609/1608623026.py\u001b[0m in \u001b[0;36m<module>\u001b[0;34m\u001b[0m\n\u001b[1;32m      1\u001b[0m \u001b[0mpunctuation\u001b[0m \u001b[0;34m=\u001b[0m \u001b[0;34m'!\"$%&\\'()*+,-./:;<=>?[\\\\]^_`{|}~•@'\u001b[0m\u001b[0;34m\u001b[0m\u001b[0;34m\u001b[0m\u001b[0m\n\u001b[0;32m----> 2\u001b[0;31m \u001b[0mstopwords\u001b[0m\u001b[0;34m=\u001b[0m \u001b[0mset\u001b[0m\u001b[0;34m(\u001b[0m\u001b[0mstopwords\u001b[0m\u001b[0;34m.\u001b[0m\u001b[0mwords\u001b[0m\u001b[0;34m(\u001b[0m\u001b[0;34m'french'\u001b[0m\u001b[0;34m)\u001b[0m\u001b[0;34m)\u001b[0m\u001b[0;34m\u001b[0m\u001b[0;34m\u001b[0m\u001b[0m\n\u001b[0m\u001b[1;32m      3\u001b[0m \u001b[0;34m\u001b[0m\u001b[0m\n\u001b[1;32m      4\u001b[0m \u001b[0;32mdef\u001b[0m \u001b[0mdeEmojify\u001b[0m\u001b[0;34m(\u001b[0m\u001b[0mtext\u001b[0m\u001b[0;34m)\u001b[0m\u001b[0;34m:\u001b[0m\u001b[0;34m\u001b[0m\u001b[0;34m\u001b[0m\u001b[0m\n\u001b[1;32m      5\u001b[0m     regrex_pattern = re.compile(pattern = \"[\"\n",
      "\u001b[0;31mAttributeError\u001b[0m: 'set' object has no attribute 'words'"
     ]
    }
   ],
   "source": [
    "punctuation = '!\"$%&\\'()*+,-./:;<=>?[\\\\]^_`{|}~•@' \n",
    "# stopwords= set(stopwords.words('french'))\n",
    "\n",
    "def deEmojify(text):\n",
    "    regrex_pattern = re.compile(pattern = \"[\"\n",
    "        u\"\\U0001F600-\\U0001F64F\"\n",
    "        u\"\\U0001F300-\\U0001F5FF\"\n",
    "        u\"\\U0001F680-\\U0001F6FF\"\n",
    "        u\"\\U0001F1E0-\\U0001F1FF\"\n",
    "        u\"\\U00002500-\\U00002BEF\"\n",
    "        u\"\\U00002702-\\U000027B0\"\n",
    "        u\"\\U00002702-\\U000027B0\"\n",
    "        u\"\\U000024C2-\\U0001F251\"\n",
    "        u\"\\U0001f926-\\U0001f937\"\n",
    "        u\"\\U00010000-\\U0010ffff\"\n",
    "        u\"\\u2640-\\u2642\"\n",
    "        u\"\\u2600-\\u2B55\"\n",
    "        u\"\\u200d\"\n",
    "        u\"\\u23cf\"\n",
    "        u\"\\u23e9\"\n",
    "        u\"\\u231a\"\n",
    "        u\"\\ufe0f\" \n",
    "        u\"\\u3030\"\n",
    "                           \"]+\", flags = re.UNICODE)\n",
    "    return regrex_pattern.sub(r'', text)\n",
    "\n",
    "def basic_clean(tweet):\n",
    "    \"\"\"function to clean tweets only without tokenization or removal of stopwords\"\"\"\n",
    "    tweet = re.sub('(RT\\s@[A-Za-z]+[A-Za-z0-9-_]+)', '', tweet)  # remove re-tweet\n",
    "    tweet = re.sub('(@[A-Za-z]+[A-Za-z0-9-_]+)', '', tweet)  # remove tweeted at\n",
    "    tweet = re.sub(r'http\\S+', '', tweet)   # remove http links\n",
    "    tweet = re.sub(r'bit.ly/\\S+', '', tweet)  # remove bitly links\n",
    "    tweet = tweet.strip('[link]')   # remove [links]\n",
    "    tweet = re.sub(r'pic.twitter\\S+','', tweet)\n",
    "    tweet = re.sub('(#[A-Za-z]+[A-Za-z0-9-_]+)', '', tweet)  # remove hash tags\n",
    "    tweet = tweet.lower()  # lower case\n",
    "    tweet = re.sub('[' + punctuation + ']+', ' ', tweet)  # strip punctuation\n",
    "    tweet = re.sub('\\s+', ' ', tweet)  # remove double spacing\n",
    "    tweet = re.sub('([0-9]+)', '', tweet)  # remove numbers\n",
    "    tweet= deEmojify(tweet)\n",
    "    return tweet\n",
    "\n",
    "\n",
    "def preprocess_tweet(tweet):\n",
    "    punctuation = '!\"$%&\\'()*+,-./:;<=>?[\\\\]^_`{|}~•@' \n",
    "    stopwords = stopwords.words('french')\n",
    "    \"\"\"function that also performs tokenization, lemmatization and removal of stopwords\"\"\"\n",
    "    tweet = re.sub('(RT\\s@[A-Za-z]+[A-Za-z0-9-_]+)', '', tweet)  # remove re-tweet\n",
    "    tweet = re.sub('(@[A-Za-z]+[A-Za-z0-9-_]+)', '', tweet)  # remove tweeted at\n",
    "    tweet = re.sub(r'http\\S+', '', tweet)   # remove http links\n",
    "    tweet = re.sub(r'bit.ly/\\S+', '', tweet)  # remove bitly links\n",
    "    tweet = tweet.strip('[link]')   # remove [links]\n",
    "    tweet = re.sub(r'pic.twitter\\S+','', tweet)\n",
    "    tweet = re.sub('(#[A-Za-z]+[A-Za-z0-9-_]+)', '', tweet)  # remove hash tags\n",
    "    tweet = tweet.lower()  # lower case\n",
    "    tweet = re.sub('[' + punctuation + ']+', ' ', tweet)  # strip punctuation\n",
    "    tweet = re.sub('\\s+', ' ', tweet)  # remove double spacing\n",
    "    tweet = re.sub('([0-9]+)', '', tweet)  # remove numbers\n",
    "    tweet=deEmojify(tweet)\n",
    "    words = nltk.word_tokenize(tweet)\n",
    "    lemmatized = ' '.join([WordNetLemmatizer().lemmatize(w) for w in words if w not in stopwords])\n",
    "    return lemmatized\n",
    "\n"
   ]
  },
  {
   "cell_type": "code",
   "execution_count": 4,
   "metadata": {},
   "outputs": [],
   "source": [
    "def preprocessing_europresse(text):\n",
    "    stop_words = set(stopwords.words(\"french\"))\n",
    "    sentences = nltk.sent_tokenize(text) # gives us a list of sentences\n",
    "    tokens=[] \n",
    "    for sentence in sentences: # loop over each sentence and tokenize it separately\n",
    "        words = nltk.word_tokenize(sentence) #gives a list of words per sentence\n",
    "        for word in words: \n",
    "            if word not in stop_words:\n",
    "                tokens.append(word.lower()) #append lowercase words if they are not stopwords\n",
    "\n",
    "    return \" \".join([x for x in tokens if x.isalpha()]) #returns alphabetic characters, excluding stopwords, joined together"
   ]
  },
  {
   "cell_type": "code",
   "execution_count": 42,
   "metadata": {},
   "outputs": [],
   "source": [
    "def preprocessing_tweet(tweet): \n",
    "    tokens=[] \n",
    "    words = nltk.word_tokenize(tweet) #givets a list of words per sentence\n",
    "    for word in words: \n",
    "        WordNetLemmatizer().lemmatize(word)\n",
    "        if word not in stop_words:\n",
    "            tokens.append(word.lower()) #append lowercase words if they are not stopwords\n",
    "    return \" \".join([x for x in tokens if x.isalpha()]) #returns alphabetic characters, excluding stopwords, joined together\n"
   ]
  },
  {
   "cell_type": "code",
   "execution_count": 54,
   "metadata": {},
   "outputs": [],
   "source": [
    "# def preprocessing_spacy(tweet):\n",
    "#     # To lowercase\n",
    "#     tweet = tweet.lower()\n",
    "# # Creating a doc with spaCy\n",
    "#     doc = nlp(tweet)\n",
    "#     lemmas = []\n",
    "#     tokens = []\n",
    "#     for token in doc:\n",
    "#         lemmas.append(token.lemma_)\n",
    "#     for lemma in lemmas:\n",
    "#         if lemma not in stopwords:\n",
    "#             tokens.append(lemma)\n",
    "#     return \" \".join([str(x) for x in tokens if x.isalpha()])\n",
    "\n",
    "\n",
    "def preprocessing_final(tweet):\n",
    "    # nlp = spacy.load('fr_core_news_md')\n",
    "    # To lowercase\n",
    "    tweet = tweet.lower()\n",
    "# Creating a doc with spaCy\n",
    "    doc = nlp(tweet)\n",
    "    lemmas = []\n",
    "    for token in doc:\n",
    "        lemmas.append(token.lemma_)\n",
    "    return \" \".join([str(x) for x in lemmas if x.isalpha() and x not in stopwords])\n",
    "\n",
    "\n",
    "\n",
    "# def preprocessing_spacy_stopwords(tweet):\n",
    "#     # nlp = spacy.load('fr_core_news_md')\n",
    "#     tweet= tweet.lower()\n",
    "#     doc= nlp (tweet)\n",
    "#     doc = [token.lemma_ for token in doc if token.lemma_ != '-PRON-']\n",
    "#     doc = [token.text for token in doc if token.is_stop == False and token.is_punct != True]\n",
    "#     return \" \".join([x for x in doc if x.isalpha()])\n",
    "\n",
    "\n",
    "\n",
    "\n",
    "    "
   ]
  },
  {
   "cell_type": "code",
   "execution_count": 3,
   "metadata": {},
   "outputs": [],
   "source": [
    "# from nltk.corpus import stopwords\n",
    "# punctuation = '!\"$%&\\'()*+,-./:;<=>?[\\\\]^_`{|}~•@' \n",
    "# stop_words = stopwords.words('french')\n",
    "#  stop_words.extend(['demain', 'soir'])\n",
    "\n",
    "\n",
    "# def preprocess_tweet_extended_stopwords(tweet):\n",
    "#     \"\"\"function that also performs tokenization, lemmatization and removal of stopwords\"\"\"\n",
    "#     tweet = re.sub('(RT\\s@[A-Za-z]+[A-Za-z0-9-_]+)', '', tweet)  # remove re-tweet\n",
    "#     tweet = re.sub('(@[A-Za-z]+[A-Za-z0-9-_]+)', '', tweet)  # remove tweeted at\n",
    "#     tweet = re.sub(r'http\\S+', '', tweet)   # remove http links\n",
    "#     tweet = re.sub(r'bit.ly/\\S+', '', tweet)  # remove bitly links\n",
    "#     tweet = tweet.strip('[link]')   # remove [links]\n",
    "#     tweet = re.sub(r'pic.twitter\\S+','', tweet)\n",
    "#     tweet = re.sub('(#[A-Za-z]+[A-Za-z0-9-_]+)', '', tweet)  # remove hash tags\n",
    "#     tweet = tweet.lower()  # lower case\n",
    "#     tweet = re.sub('[' + punctuation + ']+', ' ', tweet)  # strip punctuation\n",
    "#     tweet = re.sub('\\s+', ' ', tweet)  # remove double spacing\n",
    "#     tweet = re.sub('([0-9]+)', '', tweet)  # remove numbers\n",
    "#     tweet=deEmojify(tweet)\n",
    "#     words = nltk.word_tokenize(tweet)\n",
    "#     lemmatized = ' '.join([WordNetLemmatizer().lemmatize(str(w)) for w in words if w not in stop_words])\n",
    "#     return lemmatized"
   ]
  },
  {
   "cell_type": "code",
   "execution_count": null,
   "metadata": {},
   "outputs": [],
   "source": []
  }
 ],
 "metadata": {
  "kernelspec": {
   "display_name": "Python 3",
   "language": "python",
   "name": "python3"
  },
  "language_info": {
   "codemirror_mode": {
    "name": "ipython",
    "version": 3
   },
   "file_extension": ".py",
   "mimetype": "text/x-python",
   "name": "python",
   "nbconvert_exporter": "python",
   "pygments_lexer": "ipython3",
   "version": "3.8.10"
  }
 },
 "nbformat": 4,
 "nbformat_minor": 4
}
