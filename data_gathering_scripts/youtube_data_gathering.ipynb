{
  "nbformat": 4,
  "nbformat_minor": 0,
  "metadata": {
    "colab": {
      "name": "youtube_data_gathering",
      "provenance": [],
      "collapsed_sections": []
    },
    "kernelspec": {
      "display_name": "Python 3 (ipykernel)",
      "language": "python",
      "name": "python3"
    },
    "language_info": {
      "codemirror_mode": {
        "name": "ipython",
        "version": 3
      },
      "file_extension": ".py",
      "mimetype": "text/x-python",
      "name": "python",
      "nbconvert_exporter": "python",
      "pygments_lexer": "ipython3",
      "version": "3.9.6"
    }
  },
  "cells": [
    {
      "cell_type": "markdown",
      "metadata": {
        "id": "-Z2CakaR2kie"
      },
      "source": [
        "## Getting YouTube captions"
      ]
    },
    {
      "cell_type": "markdown",
      "metadata": {
        "id": "EUwVxWpRd-3b"
      },
      "source": [
        "#### This notebook shows how to gather data from YouTube and create a dataframe with it."
      ]
    },
    {
      "cell_type": "code",
      "metadata": {
        "id": "HV2EHrt3fVB5"
      },
      "source": [
        "#!pip install youtube_transcript_api"
      ],
      "execution_count": 85,
      "outputs": []
    },
    {
      "cell_type": "code",
      "metadata": {
        "id": "Hkc284JQdTE4"
      },
      "source": [
        "from googleapiclient.discovery import build\n",
        "from youtube_transcript_api import YouTubeTranscriptApi\n",
        "import pandas as pd\n",
        "import datetime"
      ],
      "execution_count": 2,
      "outputs": []
    },
    {
      "cell_type": "code",
      "metadata": {
        "id": "hcosg0kaAsx7"
      },
      "source": [
        "api_key = API_KEY\n",
        "# replace by the API key that you generate on Google Developers\n",
        "\n",
        "video_ids = VIDEO_ID\n",
        "# replace by the video id which is the part of the URL after 'https://www.youtube.com/watch?v='\n",
        "\n"
      ],
      "execution_count": 3,
      "outputs": []
    },
    {
      "cell_type": "code",
      "metadata": {
        "id": "x5QZ1e6AjRRB"
      },
      "source": [
        "youtube = build('youtube', 'v3', developerKey= api_key)\n",
        "#create a YouTube Data API v.3 object"
      ],
      "execution_count": 4,
      "outputs": []
    },
    {
      "cell_type": "code",
      "metadata": {
        "id": "0vgp08B0jh5v"
      },
      "source": [
        "channel_ids = []\n",
        "channel_titles = []\n",
        "video_titles = []\n",
        "transcriptions = []"
      ],
      "execution_count": 5,
      "outputs": []
    },
    {
      "cell_type": "code",
      "metadata": {
        "id": "uY01OaX8Bi72"
      },
      "source": [
        "#for video_id in video_ids:\n",
        "\n",
        "srt = YouTubeTranscriptApi.get_transcript(video_id, languages = ['fr'])\n",
        "# get the captions data\n",
        "transcriptions = []\n",
        "time_caption = []\n",
        "for i in srt:\n",
        "  transcriptions.append(i['text'])\n",
        "  time = str(datetime.timedelta(seconds=round(i['start'])))[0:]\n",
        "  time_caption.append(time)\n",
        "\n",
        "request = youtube.videos().list(part= \"contentDetails,snippet\", id = video_ids[0])\n",
        "response = request.execute()\n",
        "#make a request to the data of the video and execute it\n",
        "#the resulting response is a dictionary with lots of metadata of the video\n",
        "channel_id = response['items'][0]['snippet']['channelId']\n",
        "channel_id = [channel_id] *len(transcriptions)\n",
        "channel_title = [response['items'][0]['snippet']['channelTitle']]* len(transcriptions)\n",
        "video_id = [response['items'][0]['id']]* len(transcriptions)\n",
        "video_title = [response['items'][0]['snippet']['title']]* len(transcriptions)"
      ],
      "execution_count": 77,
      "outputs": []
    },
    {
      "cell_type": "code",
      "metadata": {
        "id": "7FEnV7qUo9Jf"
      },
      "source": [
        "df_1 = pd.DataFrame({\n",
        "                 \n",
        "                 'video_title': video_title,\n",
        "                 'video_id' : video_ids[0],\n",
        "                 'channel_id': channel_id,\n",
        "                 'channel_title': channel_title,\n",
        " #                'video_description': video_description,\n",
        " #                'upload_date' : upload_date,\n",
        " #                'duration': duration, \n",
        "                  'time_caption' : time_caption,\n",
        "                  'transcript': transcriptions })\n",
        "#create the dataframe"
      ],
      "execution_count": 82,
      "outputs": []
    }
  ]
}