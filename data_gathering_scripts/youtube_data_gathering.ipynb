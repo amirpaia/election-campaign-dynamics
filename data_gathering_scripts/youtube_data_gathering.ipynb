{
  "cells": [
    {
      "cell_type": "markdown",
      "metadata": {
        "id": "-Z2CakaR2kie"
      },
      "source": [
        "## Getting YouTube captions"
      ]
    },
    {
      "cell_type": "markdown",
      "metadata": {
        "id": "EUwVxWpRd-3b"
      },
      "source": [
        "#### This notebook shows how to gather data from YouTube and create a dataframe with it."
      ]
    },
    {
      "cell_type": "code",
      "execution_count": 85,
      "metadata": {
        "id": "HV2EHrt3fVB5"
      },
      "outputs": [],
      "source": [
        "#pip install youtube_transcript_api\n",
        "# pip install google-api-python-client"
      ]
    },
    {
      "cell_type": "code",
      "execution_count": 124,
      "metadata": {
        "id": "Hkc284JQdTE4"
      },
      "outputs": [],
      "source": [
        "from googleapiclient.discovery import build\n",
        "from youtube_transcript_api import YouTubeTranscriptApi\n",
        "import pandas as pd\n",
        "import datetime"
      ]
    },
    {
      "cell_type": "code",
      "execution_count": 125,
      "metadata": {
        "id": "hcosg0kaAsx7"
      },
      "outputs": [],
      "source": [
        "api_key = API_KEY\n",
        "# replace by the API key that you generate on Google Developers\n",
        "\n",
        "video_id = VIDEO_ID\n",
        "# replace by the video id which is the part of the URL after 'https://www.youtube.com/watch?v='\n",
        "\n"
      ]
    },
    {
      "cell_type": "code",
      "execution_count": 126,
      "metadata": {
        "id": "x5QZ1e6AjRRB"
      },
      "outputs": [],
      "source": [
        "youtube = build('youtube', 'v3', developerKey= api_key)\n",
        "#create a YouTube Data API v.3 object"
      ]
    },
    {
      "cell_type": "code",
      "execution_count": 127,
      "metadata": {},
      "outputs": [],
      "source": [
        "\n",
        "srt = YouTubeTranscriptApi.get_transcript(video_id, languages = ['fr'])\n",
        "# get the captions data\n",
        "transcriptions = []\n",
        "time_caption = []\n",
        "for i in srt:\n",
        "  transcriptions.append(i['text'])\n",
        "  time = datetime.timedelta(seconds=round(i['start']))\n",
        "  time_caption.append(time)"
      ]
    },
    {
      "cell_type": "code",
      "execution_count": 128,
      "metadata": {},
      "outputs": [],
      "source": [
        "df = pd.DataFrame({\n",
        "                 'time_caption' : time_caption,\n",
        "                 'transcript': transcriptions })\n",
        "\n",
        "time_captions = list(pd.DataFrame(df.resample('T', on='time_caption'))[0])\n",
        "transcriptions = list(pd.DataFrame(df.resample('T', on= 'time_caption').agg({'transcript': ' '.join}))['transcript'])"
      ]
    },
    {
      "cell_type": "code",
      "execution_count": 129,
      "metadata": {
        "id": "uY01OaX8Bi72"
      },
      "outputs": [],
      "source": [
        "\n",
        "\n",
        "request = youtube.videos().list(part= \"contentDetails,snippet\", id = video_id)\n",
        "response = request.execute()\n",
        "#make a request to the data of the video and execute it\n",
        "#the resulting response is a dictionary with lots of metadata of the video\n",
        "channel_id = [response['items'][0]['snippet']['channelId']] * len(transcriptions)\n",
        "video_description = [response['items'][0]['snippet']['description']] * len(transcriptions)\n",
        "upload_date = [response['items'][0]['snippet']['publishedAt'].replace('T', ' ').replace('Z', '')] * len(transcriptions)\n",
        "channel_id = [channel_id] *len(transcriptions)\n",
        "channel_title = [response['items'][0]['snippet']['channelTitle']]* len(transcriptions)\n",
        "video_id = [response['items'][0]['id']]* len(transcriptions)\n",
        "duration = [response['items'][0]['contentDetails']['duration'][2:].replace('M', ':').replace('S', '')] * len(transcriptions)\n",
        "video_title = [response['items'][0]['snippet']['title']]* len(transcriptions)"
      ]
    },
    {
      "cell_type": "code",
      "execution_count": 131,
      "metadata": {
        "id": "7FEnV7qUo9Jf"
      },
      "outputs": [],
      "source": [
        "df = pd.DataFrame({\n",
        "                 \n",
        "                 'channel_title': channel_title,\n",
        "                 'channel_id': channel_id,\n",
        "                 'video_title': video_title,\n",
        "                 'video_id' : video_id,\n",
        "                 'video_description': video_description,\n",
        "                 'upload_date' : upload_date,\n",
        "                 'duration': duration, \n",
        "                 'time_caption' : time_captions,\n",
        "                 'transcript': transcriptions })\n",
        "#create the dataframe"
      ]
    },
    {
      "cell_type": "code",
      "execution_count": 135,
      "metadata": {},
      "outputs": [
        {
          "data": {
            "text/html": [
              "<div>\n",
              "<style scoped>\n",
              "    .dataframe tbody tr th:only-of-type {\n",
              "        vertical-align: middle;\n",
              "    }\n",
              "\n",
              "    .dataframe tbody tr th {\n",
              "        vertical-align: top;\n",
              "    }\n",
              "\n",
              "    .dataframe thead th {\n",
              "        text-align: right;\n",
              "    }\n",
              "</style>\n",
              "<table border=\"1\" class=\"dataframe\">\n",
              "  <thead>\n",
              "    <tr style=\"text-align: right;\">\n",
              "      <th></th>\n",
              "      <th>channel_title</th>\n",
              "      <th>channel_id</th>\n",
              "      <th>video_title</th>\n",
              "      <th>video_id</th>\n",
              "      <th>video_description</th>\n",
              "      <th>upload_date</th>\n",
              "      <th>duration</th>\n",
              "      <th>time_caption</th>\n",
              "      <th>transcript</th>\n",
              "    </tr>\n",
              "  </thead>\n",
              "  <tbody>\n",
              "    <tr>\n",
              "      <th>0</th>\n",
              "      <td>Marine Le Pen</td>\n",
              "      <td>[UCU3z3px1_RCqYBwrs8LJVWg, UCU3z3px1_RCqYBwrs8...</td>\n",
              "      <td>Discours de Marine Le Pen à Fréjus</td>\n",
              "      <td>KbvDa-sHATk</td>\n",
              "      <td>👉🏻 http://www.adhesions-rn.fr\\n👉🏻 http://www.m...</td>\n",
              "      <td>2021-09-13 08:33:58</td>\n",
              "      <td>39:56</td>\n",
              "      <td>0 days 00:00:04</td>\n",
              "      <td>[Musique] [Musique] mes chers amis [Applaudiss...</td>\n",
              "    </tr>\n",
              "    <tr>\n",
              "      <th>1</th>\n",
              "      <td>Marine Le Pen</td>\n",
              "      <td>[UCU3z3px1_RCqYBwrs8LJVWg, UCU3z3px1_RCqYBwrs8...</td>\n",
              "      <td>Discours de Marine Le Pen à Fréjus</td>\n",
              "      <td>KbvDa-sHATk</td>\n",
              "      <td>👉🏻 http://www.adhesions-rn.fr\\n👉🏻 http://www.m...</td>\n",
              "      <td>2021-09-13 08:33:58</td>\n",
              "      <td>39:56</td>\n",
              "      <td>0 days 00:01:04</td>\n",
              "      <td>mes chers amis nous sommes un moment clé de no...</td>\n",
              "    </tr>\n",
              "    <tr>\n",
              "      <th>2</th>\n",
              "      <td>Marine Le Pen</td>\n",
              "      <td>[UCU3z3px1_RCqYBwrs8LJVWg, UCU3z3px1_RCqYBwrs8...</td>\n",
              "      <td>Discours de Marine Le Pen à Fréjus</td>\n",
              "      <td>KbvDa-sHATk</td>\n",
              "      <td>👉🏻 http://www.adhesions-rn.fr\\n👉🏻 http://www.m...</td>\n",
              "      <td>2021-09-13 08:33:58</td>\n",
              "      <td>39:56</td>\n",
              "      <td>0 days 00:02:04</td>\n",
              "      <td>mais aussi au sens littéral du terme en forme ...</td>\n",
              "    </tr>\n",
              "    <tr>\n",
              "      <th>3</th>\n",
              "      <td>Marine Le Pen</td>\n",
              "      <td>[UCU3z3px1_RCqYBwrs8LJVWg, UCU3z3px1_RCqYBwrs8...</td>\n",
              "      <td>Discours de Marine Le Pen à Fréjus</td>\n",
              "      <td>KbvDa-sHATk</td>\n",
              "      <td>👉🏻 http://www.adhesions-rn.fr\\n👉🏻 http://www.m...</td>\n",
              "      <td>2021-09-13 08:33:58</td>\n",
              "      <td>39:56</td>\n",
              "      <td>0 days 00:03:04</td>\n",
              "      <td>en 2022 cette élection présidentielle ça ne se...</td>\n",
              "    </tr>\n",
              "    <tr>\n",
              "      <th>4</th>\n",
              "      <td>Marine Le Pen</td>\n",
              "      <td>[UCU3z3px1_RCqYBwrs8LJVWg, UCU3z3px1_RCqYBwrs8...</td>\n",
              "      <td>Discours de Marine Le Pen à Fréjus</td>\n",
              "      <td>KbvDa-sHATk</td>\n",
              "      <td>👉🏻 http://www.adhesions-rn.fr\\n👉🏻 http://www.m...</td>\n",
              "      <td>2021-09-13 08:33:58</td>\n",
              "      <td>39:56</td>\n",
              "      <td>0 days 00:04:04</td>\n",
              "      <td>défenseurs de notre chère patrie que vous il n...</td>\n",
              "    </tr>\n",
              "  </tbody>\n",
              "</table>\n",
              "</div>"
            ],
            "text/plain": [
              "   channel_title                                         channel_id  \\\n",
              "0  Marine Le Pen  [UCU3z3px1_RCqYBwrs8LJVWg, UCU3z3px1_RCqYBwrs8...   \n",
              "1  Marine Le Pen  [UCU3z3px1_RCqYBwrs8LJVWg, UCU3z3px1_RCqYBwrs8...   \n",
              "2  Marine Le Pen  [UCU3z3px1_RCqYBwrs8LJVWg, UCU3z3px1_RCqYBwrs8...   \n",
              "3  Marine Le Pen  [UCU3z3px1_RCqYBwrs8LJVWg, UCU3z3px1_RCqYBwrs8...   \n",
              "4  Marine Le Pen  [UCU3z3px1_RCqYBwrs8LJVWg, UCU3z3px1_RCqYBwrs8...   \n",
              "\n",
              "                          video_title     video_id  \\\n",
              "0  Discours de Marine Le Pen à Fréjus  KbvDa-sHATk   \n",
              "1  Discours de Marine Le Pen à Fréjus  KbvDa-sHATk   \n",
              "2  Discours de Marine Le Pen à Fréjus  KbvDa-sHATk   \n",
              "3  Discours de Marine Le Pen à Fréjus  KbvDa-sHATk   \n",
              "4  Discours de Marine Le Pen à Fréjus  KbvDa-sHATk   \n",
              "\n",
              "                                   video_description          upload_date  \\\n",
              "0  👉🏻 http://www.adhesions-rn.fr\\n👉🏻 http://www.m...  2021-09-13 08:33:58   \n",
              "1  👉🏻 http://www.adhesions-rn.fr\\n👉🏻 http://www.m...  2021-09-13 08:33:58   \n",
              "2  👉🏻 http://www.adhesions-rn.fr\\n👉🏻 http://www.m...  2021-09-13 08:33:58   \n",
              "3  👉🏻 http://www.adhesions-rn.fr\\n👉🏻 http://www.m...  2021-09-13 08:33:58   \n",
              "4  👉🏻 http://www.adhesions-rn.fr\\n👉🏻 http://www.m...  2021-09-13 08:33:58   \n",
              "\n",
              "  duration    time_caption                                         transcript  \n",
              "0    39:56 0 days 00:00:04  [Musique] [Musique] mes chers amis [Applaudiss...  \n",
              "1    39:56 0 days 00:01:04  mes chers amis nous sommes un moment clé de no...  \n",
              "2    39:56 0 days 00:02:04  mais aussi au sens littéral du terme en forme ...  \n",
              "3    39:56 0 days 00:03:04  en 2022 cette élection présidentielle ça ne se...  \n",
              "4    39:56 0 days 00:04:04  défenseurs de notre chère patrie que vous il n...  "
            ]
          },
          "execution_count": 135,
          "metadata": {},
          "output_type": "execute_result"
        }
      ],
      "source": [
        "df.head()"
      ]
    }
  ],
  "metadata": {
    "colab": {
      "collapsed_sections": [],
      "name": "youtube_data_gathering",
      "provenance": []
    },
    "kernelspec": {
      "display_name": "Python 3 (ipykernel)",
      "language": "python",
      "name": "python3"
    },
    "language_info": {
      "codemirror_mode": {
        "name": "ipython",
        "version": 3
      },
      "file_extension": ".py",
      "mimetype": "text/x-python",
      "name": "python",
      "nbconvert_exporter": "python",
      "pygments_lexer": "ipython3",
      "version": "3.8.12"
    }
  },
  "nbformat": 4,
  "nbformat_minor": 0
}
