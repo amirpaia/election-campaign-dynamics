{
 "cells": [
  {
   "cell_type": "markdown",
   "metadata": {
    "id": "YB1fPheo4CWw"
   },
   "source": [
    "### Collecting Tweets"
   ]
  },
  {
   "cell_type": "markdown",
   "metadata": {},
   "source": [
    "#### This notebook demonstrates how we collect tweets from Twitter using the Twitter API"
   ]
  },
  {
   "cell_type": "code",
   "execution_count": null,
   "metadata": {
    "id": "HO089WwL4HzQ"
   },
   "outputs": [],
   "source": [
    "import tweepy\n",
    "import pandas as pd\n",
    "import emoji\n",
    "import re\n",
    "import datetime\n",
    "import pytz"
   ]
  },
  {
   "cell_type": "markdown",
   "metadata": {},
   "source": [
    "#### Define the keys"
   ]
  },
  {
   "cell_type": "code",
   "execution_count": null,
   "metadata": {
    "id": "fT5wEWUU7KUV"
   },
   "outputs": [],
   "source": [
    "api_key = \"XXXXX\"\n",
    "api_secret = \"XXXXX\"\n",
    "bearer_token = \"XXXXX\"\n",
    "access_token = \"XXXXX\"\n",
    "access_token_secret = \"XXXXX\"\n",
    "\n",
    "# To be replaced by valid keys obtaine"
   ]
  },
  {
   "cell_type": "markdown",
   "metadata": {},
   "source": [
    "#### Get acceess to the API using the keys"
   ]
  },
  {
   "cell_type": "code",
   "execution_count": null,
   "metadata": {
    "id": "8TwxRbJmRpaF"
   },
   "outputs": [],
   "source": [
    "auth = tweepy.OAuthHandler(api_key, api_secret)\n",
    "auth.set_access_token(access_token, access_token_secret)\n",
    "api = tweepy.API(auth)"
   ]
  },
  {
   "cell_type": "markdown",
   "metadata": {},
   "source": [
    "#### Define whose tweets to get and from what date"
   ]
  },
  {
   "cell_type": "code",
   "execution_count": null,
   "metadata": {},
   "outputs": [],
   "source": [
    "candidate_username = 'CANDIDATE_USERNAME'\n",
    "# Twitter username of the candidate (without the '@')\n",
    "start_date = datetime.datetime(%Y, %M, %D, 0,0,0)\n",
    "end_date = datetime.datetime(%Y, %M, %D, 0,0,0)\n",
    "# The time period of the tweets \n",
    "\n",
    "utc = pytz.UTC \n",
    "start_date = utc.localize(start_date)\n",
    "end_date = utc.localize(end_date)\n",
    "#Normalizes the timezone according to the UTC"
   ]
  },
  {
   "cell_type": "markdown",
   "metadata": {},
   "source": [
    "#### Scrape tweets and store the information in lists"
   ]
  },
  {
   "cell_type": "code",
   "execution_count": 1,
   "metadata": {},
   "outputs": [],
   "source": [
    "name = []\n",
    "bio = []\n",
    "follower_count = []\n",
    "tweets = []\n",
    "fav_count = []\n",
    "rt_count = []\n",
    "time = []\n",
    "is_quote = []\n",
    "in_reply_to = []\n",
    "tweet_id = []\n",
    "hashtags = []\n",
    "is_retweet = []\n",
    "mentions = []\n",
    "emojicons = []\n",
    "\n",
    "# Creates a cursor objects and iterates through it to store tweet text and metadata of the tweet in lists\n",
    "for i in tweepy.Cursor(api.user_timeline, id = candidate_username ,  tweet_mode = 'extended').items():\n",
    "    if i.created_at > start_date and i.created_at < end_date:\n",
    "    #If throws timezone error, try utc.localize(i.created_at)\n",
    "        name.append(i.user.name)\n",
    "        tweets.append(i.full_text)\n",
    "        time.append(i.created_at)\n",
    "        bio.append(i.user.description)\n",
    "        follower_count.append(i.user.followers_count)\n",
    "        fav_count.append(i.favorite_count)\n",
    "        rt_count.append(i.retweet_count)\n",
    "        is_quote.append(i.is_quote_status)\n",
    "        in_reply_to.append(i.in_reply_to_screen_name)\n",
    "        tweet_id.append(i.id)\n",
    "        is_retweet.append('retweeted_status' in dir(i))\n",
    "        temp_mentions = []\n",
    "        for dicti in i.entities['user_mentions']:\n",
    "            temp_mentions.append(dicti['screen_name'])\n",
    "        mentions.append(temp_mentions)\n",
    "        temp_hashtags = []\n",
    "        for dicti in i.entities['hashtags']:\n",
    "            temp_hashtags.append(dicti['text'])\n",
    "        hashtags.append(temp_hashtags)\n",
    "for tweet in tweets:\n",
    "    de_emojized = emoji.demojize(tweet.replace(':', ' '))\n",
    "    emojis = re.findall(r'(:[^:]*:)', de_emojized)\n",
    "    emojicons.append(emojis)\n",
    "\n"
   ]
  },
  {
   "cell_type": "markdown",
   "metadata": {},
   "source": [
    "#### Create pandas dataframe from the list"
   ]
  },
  {
   "cell_type": "code",
   "execution_count": null,
   "metadata": {},
   "outputs": [],
   "source": [
    "df = pd.DataFrame({'name':name, \n",
    "                  'bio': bio, \n",
    "                  'follower_count': follower_count, \n",
    "                  'tweet_text':tweets, \n",
    "                  'tweet_id':tweet_id, \n",
    "                  'fav_count':fav_count, \n",
    "                  'rt_count':rt_count, \n",
    "                  'in_reply_to': in_reply_to, \n",
    "                  'mentions' : mentions,\n",
    "                  'is_retweet':is_retweet, \n",
    "                  'is_quote': is_quote, \n",
    "                  'hashtags': hashtags,\n",
    "                  'emojicons': emojicons,\n",
    "                  'time':time\n",
    "                  })"
   ]
  },
  {
   "cell_type": "markdown",
   "metadata": {},
   "source": [
    "#### Normalize the columns"
   ]
  },
  {
   "cell_type": "code",
   "execution_count": null,
   "metadata": {},
   "outputs": [],
   "source": [
    "columns = ['mentions', 'hashtags', 'emojicons']\n",
    "for column in columns:\n",
    "    for j in range(len(df[column])):\n",
    "        df[column][j] = ', '.join(i for i in df[column][j])\n",
    "        if df[column][j] == '':\n",
    "            df[column][j] = None"
   ]
  }
 ],
 "metadata": {
  "colab": {
   "collapsed_sections": [
    "-Z2CakaR2kie"
   ],
   "name": "software-project.ipynb",
   "provenance": []
  },
  "kernelspec": {
   "display_name": "Python 3 (ipykernel)",
   "language": "python",
   "name": "python3"
  },
  "language_info": {
   "codemirror_mode": {
    "name": "ipython",
    "version": 3
   },
   "file_extension": ".py",
   "mimetype": "text/x-python",
   "name": "python",
   "nbconvert_exporter": "python",
   "pygments_lexer": "ipython3",
   "version": "3.9.6"
  }
 },
 "nbformat": 4,
 "nbformat_minor": 1
}
