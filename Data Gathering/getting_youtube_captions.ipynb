{
 "cells": [
  {
   "cell_type": "markdown",
   "metadata": {
    "id": "-Z2CakaR2kie"
   },
   "source": [
    "### Getting YouTube captions"
   ]
  },
  {
   "cell_type": "code",
   "execution_count": 1,
   "metadata": {
    "colab": {
     "base_uri": "https://localhost:8080/"
    },
    "id": "1PKRp-Hbc8bs",
    "outputId": "19137866-5500-4349-df48-874749b222b3"
   },
   "outputs": [],
   "source": [
    "# pip install youtube-transcript-api"
   ]
  },
  {
   "cell_type": "code",
   "execution_count": 2,
   "metadata": {
    "colab": {
     "base_uri": "https://localhost:8080/"
    },
    "id": "-kSs6pAIdM97",
    "outputId": "5e7dc24b-3027-45fd-814a-aa3e1ae71167"
   },
   "outputs": [],
   "source": [
    "from youtube_transcript_api import YouTubeTranscriptApi"
   ]
  },
  {
   "cell_type": "code",
   "execution_count": null,
   "metadata": {},
   "outputs": [],
   "source": [
    "video_id = \"XXXXX\" \n",
    "# replace by the video id which is the part of the URL after 'https://www.youtube.com/watch?v='\n",
    "\n",
    "srt = YouTubeTranscriptApi.get_transcript(video_id, languages = ['fr'])\n",
    "# get and store the subtitle as a dictionary with metadata"
   ]
  },
  {
   "cell_type": "markdown",
   "metadata": {},
   "source": [
    "#### Get only the text"
   ]
  },
  {
   "cell_type": "code",
   "execution_count": 3,
   "metadata": {
    "id": "B9mDL2xsdebA"
   },
   "outputs": [],
   "source": [
    "transcript = ''\n",
    "for i in srt:\n",
    "    transcript += i['text']\n"
   ]
  },
  {
   "cell_type": "markdown",
   "metadata": {},
   "source": [
    "#### Some cleaning if needed"
   ]
  },
  {
   "cell_type": "code",
   "execution_count": 3,
   "metadata": {
    "id": "PYiBLEnAd_85"
   },
   "outputs": [],
   "source": [
    "# transcript = transcript.replace('\\xa0\\n', ' ')\n",
    "# transcript = transcript.replace('\\xa0\\xa0', ' ')\n",
    "# transcript = transcript.replace('\\xa0', ' ')\n",
    "# transcript = transcript.replace('\\n', ' ')"
   ]
  },
  {
   "cell_type": "markdown",
   "metadata": {},
   "source": [
    "#### Split the text into speakers"
   ]
  },
  {
   "cell_type": "code",
   "execution_count": 5,
   "metadata": {
    "id": "1PFj30D9RKCh"
   },
   "outputs": [],
   "source": [
    "l = transcript.split('- ')\n",
    "# gets a dialog list (assuming new speaker's caption starting with a dash)\n",
    "\n",
    "just_speaker_1 = ''\n",
    "just_speaker_2 = []\n",
    "for i in range(0, len(l),2):\n",
    "    just_speaker_1 += l[i]\n",
    "    just_speaker_2 += l[i +1]\n",
    "    \n",
    "# stores the speech of each speaker in their own string"
   ]
  },
  {
   "cell_type": "markdown",
   "metadata": {},
   "source": [
    "#### Store the speech of one speaker as .txt"
   ]
  },
  {
   "cell_type": "code",
   "execution_count": 26,
   "metadata": {
    "id": "FP4Zh_vnGW7b"
   },
   "outputs": [],
   "source": [
    "text = open(r'PATH','w')\n",
    "text.write(just_speaker_2)\n",
    "myText.close()"
   ]
  }
 ],
 "metadata": {
  "colab": {
   "collapsed_sections": [
    "-Z2CakaR2kie"
   ],
   "name": "software-project.ipynb",
   "provenance": []
  },
  "kernelspec": {
   "display_name": "Python 3 (ipykernel)",
   "language": "python",
   "name": "python3"
  },
  "language_info": {
   "codemirror_mode": {
    "name": "ipython",
    "version": 3
   },
   "file_extension": ".py",
   "mimetype": "text/x-python",
   "name": "python",
   "nbconvert_exporter": "python",
   "pygments_lexer": "ipython3",
   "version": "3.9.6"
  }
 },
 "nbformat": 4,
 "nbformat_minor": 1
}
