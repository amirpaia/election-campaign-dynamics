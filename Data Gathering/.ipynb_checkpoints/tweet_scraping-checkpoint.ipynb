{
 "cells": [
  {
   "cell_type": "markdown",
   "metadata": {
    "id": "YB1fPheo4CWw"
   },
   "source": [
    "### Collecting Tweets"
   ]
  },
  {
   "cell_type": "markdown",
   "metadata": {},
   "source": [
    "#### This notebook demonstrates how we collect tweets from Twitter using the Twitter API"
   ]
  },
  {
   "cell_type": "code",
   "execution_count": null,
   "metadata": {
    "id": "HO089WwL4HzQ"
   },
   "outputs": [],
   "source": [
    "import tweepy\n",
    "import pandas as pd"
   ]
  },
  {
   "cell_type": "markdown",
   "metadata": {},
   "source": [
    "#### Define the keys"
   ]
  },
  {
   "cell_type": "code",
   "execution_count": null,
   "metadata": {
    "id": "fT5wEWUU7KUV"
   },
   "outputs": [],
   "source": [
    "api_key = \"XXXXX\"\n",
    "api_secret = \"XXXXX\"\n",
    "bearer_token = \"XXXXX\"\n",
    "access_token = \"XXXXX\"\n",
    "access_token_secret = \"XXXXX\"\n",
    "\n",
    "# To be replaced by valid keys obtaine"
   ]
  },
  {
   "cell_type": "markdown",
   "metadata": {},
   "source": [
    "#### Get acceess to the API using the keys"
   ]
  },
  {
   "cell_type": "code",
   "execution_count": null,
   "metadata": {
    "id": "8TwxRbJmRpaF"
   },
   "outputs": [],
   "source": [
    "auth = tweepy.OAuthHandler(api_key, api_secret)\n",
    "auth.set_access_token(access_token, access_token_secret)\n",
    "api = tweepy.API(auth)"
   ]
  },
  {
   "cell_type": "markdown",
   "metadata": {},
   "source": [
    "#### Define whose tweets to get and from what date"
   ]
  },
  {
   "cell_type": "code",
   "execution_count": null,
   "metadata": {},
   "outputs": [],
   "source": [
    "candidate_username = 'XXXXX'\n",
    "# Twitter username of the candidate\n",
    "date = 'XXXX-XX-XX'\n",
    "# Starts scraping tweets created since this date"
   ]
  },
  {
   "cell_type": "markdown",
   "metadata": {},
   "source": [
    "#### Scrape tweets and store the information in lists"
   ]
  },
  {
   "cell_type": "code",
   "execution_count": 1,
   "metadata": {},
   "outputs": [],
   "source": [
    "name = []\n",
    "bio = []\n",
    "follower_count = []\n",
    "tweets = []\n",
    "fav_count = []\n",
    "rt_count = []\n",
    "time = []\n",
    "\n",
    "for i in tweepy.Cursor(api.user_timeline, id = candidate_username ,  tweet_mode = 'extended', since= date).items():\n",
    "    if i.full_text[:4] != 'RT @': #excludes retweets\n",
    "        name.append(i.user.name)\n",
    "        tweets.append(i.full_text)\n",
    "        time.append(i.created_at)\n",
    "        bio.append(i.user.description)\n",
    "        follower_count.append(i.user.followers_count)\n",
    "        fav_count.append(i.favorite_count)\n",
    "        rt_count.append(i.retweet_count)\n",
    "    \n",
    "# Creates a cursor objects and iterates through it to store tweet text and metadata of the tweet in lists"
   ]
  },
  {
   "cell_type": "markdown",
   "metadata": {},
   "source": [
    "#### Create pandas dataframe from the list"
   ]
  },
  {
   "cell_type": "code",
   "execution_count": null,
   "metadata": {
    "id": "VFEMX-NlRt66"
   },
   "outputs": [],
   "source": [
    "df = pd.DataFrame({'name':name, 'follower_count': follower_count, 'tweet_text':tweets, 'fav_count':fav_count, 'rt_count':rt_count, 'time':time})\n",
    "df"
   ]
  }
 ],
 "metadata": {
  "colab": {
   "collapsed_sections": [
    "-Z2CakaR2kie"
   ],
   "name": "software-project.ipynb",
   "provenance": []
  },
  "kernelspec": {
   "display_name": "Python 3 (ipykernel)",
   "language": "python",
   "name": "python3"
  },
  "language_info": {
   "codemirror_mode": {
    "name": "ipython",
    "version": 3
   },
   "file_extension": ".py",
   "mimetype": "text/x-python",
   "name": "python",
   "nbconvert_exporter": "python",
   "pygments_lexer": "ipython3",
   "version": "3.9.6"
  }
 },
 "nbformat": 4,
 "nbformat_minor": 1
}
