{
 "cells": [
  {
   "cell_type": "code",
   "execution_count": 10,
   "metadata": {},
   "outputs": [],
   "source": [
    "from summa import keywords\n",
    "from summa.summarizer import summarize"
   ]
  },
  {
   "cell_type": "code",
   "execution_count": 20,
   "metadata": {},
   "outputs": [
    {
     "name": "stdout",
     "output_type": "stream",
     "text": [
      "['american', 'americans', 'biden', 'economic', 'jobs', 'crisis', 'economy', 'pays', 'make', 'work', 'pay health', 'workers', 'provide', 'providing', 'working women', 'taxes', 'tax', 'afford', 'affordable', 'business', 'businesses', 'help', 'helping', 'investment', 'invest', 'investments', 'public', 'wages', 'wage', 'opportunities', 'unemployment', 'national', 'lowering', 'means investing', 'energy', 'new', 'wealth', 'mean lower', 'racial', 'educational opportunity', 'fair', 'fairness', 'paid', 'today', 'minimum', 'governments', 'government', 'releasing', 'mobilize', 'costs', 'millions', 'educators', 'education', 'release updated', 'class', 'tools', 'supply', 'street', 'families', 'family', 'people', 'growth', 'bargaining', 'bargain', 'address', 'addressing', 'strong social', 'covid', 'build', 'building', 'caregivers', 'century caregiving', 'far', 'future', 'futures']\n"
     ]
    }
   ],
   "source": [
    "with open('english_text.txt', mode=\"r\", encoding=\"utf-8\") as f:\n",
    "    text = f.read()\n",
    "\n",
    "print(keywords.keywords(text,split=True))"
   ]
  },
  {
   "cell_type": "code",
   "execution_count": null,
   "metadata": {},
   "outputs": [],
   "source": [
    "with open('french_text.txt', mode=\"r\", encoding=\"utf-8\") as f:\n",
    "    text = f.read()\n",
    "\n",
    "summarize(text, language='french', words=40)\n",
    "# print(keywords.keywords(text,split=True))"
   ]
  },
  {
   "cell_type": "code",
   "execution_count": null,
   "metadata": {},
   "outputs": [],
   "source": [
    "summarize(text, language='spanish',words=50)"
   ]
  },
  {
   "cell_type": "code",
   "execution_count": 47,
   "metadata": {},
   "outputs": [
    {
     "name": "stdout",
     "output_type": "stream",
     "text": [
      "Ãªtre Ã©lu\n",
      "0.12039337415340504 1\n",
      "[Ãªtre Ã©lu]\n",
      "\n",
      "©lections\n",
      "0.09918073407754498 1\n",
      "[©lections]\n",
      "\n",
      "porte Ã\n",
      "0.09856885987343644 1\n",
      "[porte Ã]\n",
      "\n",
      "©\n",
      "0.09700499010775697 6\n",
      "[©, ©, ©, ©, ©, ©]\n",
      "\n",
      "©quipe prÃªte\n",
      "0.09655286878518443 1\n",
      "[©quipe prÃªte]\n",
      "\n",
      "©s.\n",
      "0.09544835230782961 1\n",
      "[©s.]\n",
      "\n",
      "Ã\n",
      "0.09246343561339461 11\n",
      "[Ã, Ã, Ã, Ã, Ã, Ã, Ã, Ã, Ã, Ã, Ã]\n",
      "\n"
     ]
    }
   ],
   "source": [
    "import spacy\n",
    "import pytextrank\n",
    "\n",
    "# example text\n",
    "# text = \"Compatibility of systems of linear constraints over the set of natural numbers. Criteria of compatibility of a system of linear Diophantine equations, strict inequations, and nonstrict inequations are considered. Upper bounds for components of a minimal set of solutions and algorithms of construction of minimal generating sets of solutions for all types of systems are given. These criteria and the corresponding algorithms for constructing a minimal supporting set of solutions can be used in solving all the considered types systems and systems of mixed types.\"\n",
    "with open('french_text.txt', mode=\"r\", encoding=\"utf-8\") as f:\n",
    "    text = f.read()\n",
    "\n",
    "# load a spaCy model, depending on language, scale, etc.\n",
    "nlp = spacy.load(\"fr_core_news_sm\")\n",
    "\n",
    "# add PyTextRank to the spaCy pipeline\n",
    "nlp.add_pipe(\"textrank\")\n",
    "doc = nlp(text)\n",
    "\n",
    "# examine the top-ranked phrases in the document\n",
    "for phrase in doc._.phrases:\n",
    "    if (phrase.rank > 0.09):\n",
    "        print(phrase.text)\n",
    "        print(phrase.rank, phrase.count)\n",
    "        print(phrase.chunks)\n",
    "        print()"
   ]
  }
 ],
 "metadata": {
  "interpreter": {
   "hash": "878685f30c41600f59a1117372f88d87b55209ebcd1e9b7d29a375834828434b"
  },
  "kernelspec": {
   "display_name": "Python 3.8.10 64-bit ('election-campaign-dynamics-pXWU_-Km': pipenv)",
   "name": "python3"
  },
  "language_info": {
   "codemirror_mode": {
    "name": "ipython",
    "version": 3
   },
   "file_extension": ".py",
   "mimetype": "text/x-python",
   "name": "python",
   "nbconvert_exporter": "python",
   "pygments_lexer": "ipython3",
   "version": "3.8.10"
  },
  "orig_nbformat": 4
 },
 "nbformat": 4,
 "nbformat_minor": 2
}
