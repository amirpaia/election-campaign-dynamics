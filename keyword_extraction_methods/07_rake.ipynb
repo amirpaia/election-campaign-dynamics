{
 "cells": [
  {
   "cell_type": "code",
   "execution_count": 1,
   "metadata": {},
   "outputs": [],
   "source": [
    "import rake_nltk as rake"
   ]
  },
  {
   "cell_type": "code",
   "execution_count": null,
   "metadata": {},
   "outputs": [],
   "source": [
    "stoppath = 'data/stoplists/SmartStoplist.txt'\n",
    "\n",
    "rake_object = rake.Rake(stoppath, 5, 3, 4)\n",
    "\n",
    "sample_file = open(\"data/docs/fao_test/w2167e.txt\", 'r', encoding=\"iso-8859-1\")\n",
    "text = sample_file.read()\n",
    "\n",
    "keywords = rake_object.run(text)\n",
    "\n",
    "# 3. print results\n",
    "print(\"Keywords:\", keywords)"
   ]
  }
 ],
 "metadata": {
  "interpreter": {
   "hash": "878685f30c41600f59a1117372f88d87b55209ebcd1e9b7d29a375834828434b"
  },
  "kernelspec": {
   "display_name": "Python 3.8.10 64-bit ('election-campaign-dynamics-pXWU_-Km': pipenv)",
   "name": "python3"
  },
  "language_info": {
   "codemirror_mode": {
    "name": "ipython",
    "version": 3
   },
   "file_extension": ".py",
   "mimetype": "text/x-python",
   "name": "python",
   "nbconvert_exporter": "python",
   "pygments_lexer": "ipython3",
   "version": "3.8.10"
  },
  "orig_nbformat": 4
 },
 "nbformat": 4,
 "nbformat_minor": 2
}
